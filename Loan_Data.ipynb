{
  "metadata": {
    "kernelspec": {
      "language": "python",
      "display_name": "Python 3",
      "name": "python3"
    },
    "language_info": {
      "name": "python",
      "version": "3.10.14",
      "mimetype": "text/x-python",
      "codemirror_mode": {
        "name": "ipython",
        "version": 3
      },
      "pygments_lexer": "ipython3",
      "nbconvert_exporter": "python",
      "file_extension": ".py"
    },
    "kaggle": {
      "accelerator": "none",
      "dataSources": [
        {
          "sourceId": 9721462,
          "sourceType": "datasetVersion",
          "datasetId": 5947888
        }
      ],
      "dockerImageVersionId": 30786,
      "isInternetEnabled": true,
      "language": "python",
      "sourceType": "notebook",
      "isGpuEnabled": false
    },
    "colab": {
      "name": "Loan Data",
      "provenance": [],
      "include_colab_link": true
    }
  },
  "nbformat_minor": 0,
  "nbformat": 4,
  "cells": [
    {
      "cell_type": "markdown",
      "metadata": {
        "id": "view-in-github",
        "colab_type": "text"
      },
      "source": [
        "<a href=\"https://colab.research.google.com/github/Leorev01/Machine-Learning/blob/main/Loan_Data.ipynb\" target=\"_parent\"><img src=\"https://colab.research.google.com/assets/colab-badge.svg\" alt=\"Open In Colab\"/></a>"
      ]
    },
    {
      "source": [
        "# IMPORTANT: SOME KAGGLE DATA SOURCES ARE PRIVATE\n",
        "# RUN THIS CELL IN ORDER TO IMPORT YOUR KAGGLE DATA SOURCES.\n",
        "import kagglehub\n",
        "kagglehub.login()\n"
      ],
      "metadata": {
        "id": "bxAgeA11cm01"
      },
      "cell_type": "code",
      "outputs": [],
      "execution_count": null
    },
    {
      "source": [
        "# IMPORTANT: RUN THIS CELL IN ORDER TO IMPORT YOUR KAGGLE DATA SOURCES,\n",
        "# THEN FEEL FREE TO DELETE THIS CELL.\n",
        "# NOTE: THIS NOTEBOOK ENVIRONMENT DIFFERS FROM KAGGLE'S PYTHON\n",
        "# ENVIRONMENT SO THERE MAY BE MISSING LIBRARIES USED BY YOUR\n",
        "# NOTEBOOK.\n",
        "\n",
        "mynameisleo123_loandata_path = kagglehub.dataset_download('mynameisleo123/loandata')\n",
        "\n",
        "print('Data source import complete.')\n"
      ],
      "metadata": {
        "id": "V6a0ZetWcm04"
      },
      "cell_type": "code",
      "outputs": [],
      "execution_count": null
    },
    {
      "cell_type": "code",
      "source": [
        "# This Python 3 environment comes with many helpful analytics libraries installed\n",
        "# It is defined by the kaggle/python Docker image: https://github.com/kaggle/docker-python\n",
        "# For example, here's several helpful packages to load\n",
        "\n",
        "import numpy as np # linear algebra\n",
        "import pandas as pd # data processing, CSV file I/O (e.g. pd.read_csv)\n",
        "\n",
        "# Input data files are available in the read-only \"../input/\" directory\n",
        "# For example, running this (by clicking run or pressing Shift+Enter) will list all files under the input directory\n",
        "\n",
        "import os\n",
        "for dirname, _, filenames in os.walk('/kaggle/input'):\n",
        "    for filename in filenames:\n",
        "        print(os.path.join(dirname, filename))\n",
        "\n",
        "# You can write up to 20GB to the current directory (/kaggle/working/) that gets preserved as output when you create a version using \"Save & Run All\"\n",
        "# You can also write temporary files to /kaggle/temp/, but they won't be saved outside of the current session"
      ],
      "metadata": {
        "_uuid": "8f2839f25d086af736a60e9eeb907d3b93b6e0e5",
        "_cell_guid": "b1076dfc-b9ad-4769-8c92-a6c4dae69d19",
        "execution": {
          "iopub.status.busy": "2024-10-27T18:31:37.713295Z",
          "iopub.execute_input": "2024-10-27T18:31:37.713678Z",
          "iopub.status.idle": "2024-10-27T18:31:38.960703Z",
          "shell.execute_reply.started": "2024-10-27T18:31:37.713643Z",
          "shell.execute_reply": "2024-10-27T18:31:38.959351Z"
        },
        "trusted": true,
        "id": "3vybNjMWcm05",
        "outputId": "5652637f-1a4e-41b3-a3bd-60aac204f299"
      },
      "outputs": [
        {
          "name": "stdout",
          "text": "/kaggle/input/loandata/Loan Prediction Dataset/test_loan.csv\n/kaggle/input/loandata/Loan Prediction Dataset/train_loan.csv\n",
          "output_type": "stream"
        }
      ],
      "execution_count": null
    },
    {
      "cell_type": "code",
      "source": [
        "# Load the datasets\n",
        "train_data = pd.read_csv('/kaggle/input/loandata/Loan Prediction Dataset/train_loan.csv')\n",
        "test_data = pd.read_csv('/kaggle/input/loandata/Loan Prediction Dataset/test_loan.csv')\n",
        "\n",
        "#Display the first few rows of the training data\n",
        "print(train_data.head())\n",
        "#Display null values sum for each training data column\n",
        "print(train_data.isnull().sum())\n"
      ],
      "metadata": {
        "execution": {
          "iopub.status.busy": "2024-10-27T18:31:38.963019Z",
          "iopub.execute_input": "2024-10-27T18:31:38.963657Z",
          "iopub.status.idle": "2024-10-27T18:31:39.026424Z",
          "shell.execute_reply.started": "2024-10-27T18:31:38.963603Z",
          "shell.execute_reply": "2024-10-27T18:31:39.025125Z"
        },
        "trusted": true,
        "id": "ArUQvdqncm06",
        "outputId": "60fc9676-6b5a-4023-fd25-dc7ea8da1214"
      },
      "outputs": [
        {
          "name": "stdout",
          "text": "    Loan_ID Gender Married Dependents     Education Self_Employed  \\\n0  LP001002   Male      No          0      Graduate            No   \n1  LP001003   Male     Yes          1      Graduate            No   \n2  LP001005   Male     Yes          0      Graduate           Yes   \n3  LP001006   Male     Yes          0  Not Graduate            No   \n4  LP001008   Male      No          0      Graduate            No   \n\n   ApplicantIncome  CoapplicantIncome  LoanAmount  Loan_Amount_Term  \\\n0             5849                0.0         NaN             360.0   \n1             4583             1508.0       128.0             360.0   \n2             3000                0.0        66.0             360.0   \n3             2583             2358.0       120.0             360.0   \n4             6000                0.0       141.0             360.0   \n\n   Credit_History Property_Area Loan_Status  \n0             1.0         Urban           Y  \n1             1.0         Rural           N  \n2             1.0         Urban           Y  \n3             1.0         Urban           Y  \n4             1.0         Urban           Y  \nLoan_ID               0\nGender               13\nMarried               3\nDependents           15\nEducation             0\nSelf_Employed        32\nApplicantIncome       0\nCoapplicantIncome     0\nLoanAmount           22\nLoan_Amount_Term     14\nCredit_History       50\nProperty_Area         0\nLoan_Status           0\ndtype: int64\n",
          "output_type": "stream"
        }
      ],
      "execution_count": null
    },
    {
      "cell_type": "code",
      "source": [
        "# Fill missing values in categorical columns with the mode and in numerical columns with the median\n",
        "train_data['Gender'] = train_data['Gender'].fillna(train_data['Gender'].mode()[0])\n",
        "train_data['Married'] = train_data['Married'].fillna(train_data['Married'].mode()[0])\n",
        "train_data['Dependents'] = train_data['Dependents'].fillna(train_data['Dependents'].mode()[0])\n",
        "train_data['Self_Employed'] = train_data['Self_Employed'].fillna(train_data['Self_Employed'].mode()[0])\n",
        "train_data['LoanAmount'] = train_data['LoanAmount'].fillna(train_data['LoanAmount'].median())\n",
        "train_data['Loan_Amount_Term'] = train_data['Loan_Amount_Term'].fillna(train_data['Loan_Amount_Term'].mode()[0])\n",
        "train_data['Credit_History'] = train_data['Credit_History'].fillna(train_data['Credit_History'].mode()[0])\n",
        "\n",
        "# Check if there are still any missing values\n",
        "print(train_data.isnull().sum())\n",
        "print(test_data.isnull().sum())\n"
      ],
      "metadata": {
        "execution": {
          "iopub.status.busy": "2024-10-27T18:31:39.029119Z",
          "iopub.execute_input": "2024-10-27T18:31:39.030797Z",
          "iopub.status.idle": "2024-10-27T18:31:39.091658Z",
          "shell.execute_reply.started": "2024-10-27T18:31:39.030741Z",
          "shell.execute_reply": "2024-10-27T18:31:39.09017Z"
        },
        "trusted": true,
        "id": "A6k3jAlycm06",
        "outputId": "8b70e6ba-d270-4711-a7bc-a75e60f3eaa4"
      },
      "outputs": [
        {
          "name": "stdout",
          "text": "Loan_ID              0\nGender               0\nMarried              0\nDependents           0\nEducation            0\nSelf_Employed        0\nApplicantIncome      0\nCoapplicantIncome    0\nLoanAmount           0\nLoan_Amount_Term     0\nCredit_History       0\nProperty_Area        0\nLoan_Status          0\ndtype: int64\nLoan_ID               0\nGender               11\nMarried               0\nDependents           10\nEducation             0\nSelf_Employed        23\nApplicantIncome       0\nCoapplicantIncome     0\nLoanAmount            5\nLoan_Amount_Term      6\nCredit_History       29\nProperty_Area         0\ndtype: int64\n",
          "output_type": "stream"
        }
      ],
      "execution_count": null
    },
    {
      "cell_type": "code",
      "source": [
        "from sklearn.preprocessing import LabelEncoder\n",
        "\n",
        "label_encoder = LabelEncoder()\n",
        "for column in ['Gender', 'Married', 'Education', 'Self_Employed', 'Property_Area', 'Loan_Status']:\n",
        "    train_data[column] = label_encoder.fit_transform(train_data[column])\n",
        "\n",
        "# Convert 'Dependents' column to numerical\n",
        "train_data['Dependents'] = train_data['Dependents'].replace('3+', 3).astype(int)\n",
        "\n",
        "# Verify the changes\n",
        "print(train_data.head())\n"
      ],
      "metadata": {
        "execution": {
          "iopub.status.busy": "2024-10-27T18:31:39.094783Z",
          "iopub.execute_input": "2024-10-27T18:31:39.09545Z",
          "iopub.status.idle": "2024-10-27T18:31:40.621834Z",
          "shell.execute_reply.started": "2024-10-27T18:31:39.095377Z",
          "shell.execute_reply": "2024-10-27T18:31:40.620726Z"
        },
        "trusted": true,
        "id": "TQwvAhwWcm06",
        "outputId": "27232a89-a39d-4869-e458-3ab691caf411"
      },
      "outputs": [
        {
          "name": "stdout",
          "text": "    Loan_ID  Gender  Married  Dependents  Education  Self_Employed  \\\n0  LP001002       1        0           0          0              0   \n1  LP001003       1        1           1          0              0   \n2  LP001005       1        1           0          0              1   \n3  LP001006       1        1           0          1              0   \n4  LP001008       1        0           0          0              0   \n\n   ApplicantIncome  CoapplicantIncome  LoanAmount  Loan_Amount_Term  \\\n0             5849                0.0       128.0             360.0   \n1             4583             1508.0       128.0             360.0   \n2             3000                0.0        66.0             360.0   \n3             2583             2358.0       120.0             360.0   \n4             6000                0.0       141.0             360.0   \n\n   Credit_History  Property_Area  Loan_Status  \n0             1.0              2            1  \n1             1.0              0            0  \n2             1.0              2            1  \n3             1.0              2            1  \n4             1.0              2            1  \n",
          "output_type": "stream"
        }
      ],
      "execution_count": null
    },
    {
      "cell_type": "code",
      "source": [
        "# Split the data into features and target variable\n",
        "X = train_data.drop(columns=['Loan_ID', 'Loan_Status'])\n",
        "y = train_data['Loan_Status']\n",
        "\n",
        "# Display the shapes of features and target\n",
        "print(\"Features shape:\", X.shape)\n",
        "print(\"Target shape:\", y.shape)\n"
      ],
      "metadata": {
        "execution": {
          "iopub.status.busy": "2024-10-27T18:31:40.623324Z",
          "iopub.execute_input": "2024-10-27T18:31:40.624647Z",
          "iopub.status.idle": "2024-10-27T18:31:40.639056Z",
          "shell.execute_reply.started": "2024-10-27T18:31:40.624587Z",
          "shell.execute_reply": "2024-10-27T18:31:40.637437Z"
        },
        "trusted": true,
        "id": "iGuiMb_vcm07",
        "outputId": "00ed034c-b1f1-47af-e523-63f9048c4827"
      },
      "outputs": [
        {
          "name": "stdout",
          "text": "Features shape: (614, 11)\nTarget shape: (614,)\n",
          "output_type": "stream"
        }
      ],
      "execution_count": null
    },
    {
      "cell_type": "code",
      "source": [
        "from sklearn.model_selection import train_test_split\n",
        "\n",
        "# Split into training and testing sets\n",
        "X_train, X_test, y_train, y_test = train_test_split(X, y, test_size=0.3, random_state=42, stratify=y)\n",
        "\n",
        "# Display the shape of the splits to verify\n",
        "print(\"Training Features Shape:\", X_train.shape)\n",
        "print(\"Testing Features Shape:\", X_test.shape)\n",
        "print(\"Training Labels Shape:\", y_train.shape)\n",
        "print(\"Testing Labels Shape:\", y_test.shape)\n"
      ],
      "metadata": {
        "execution": {
          "iopub.status.busy": "2024-10-27T18:31:40.640673Z",
          "iopub.execute_input": "2024-10-27T18:31:40.642221Z",
          "iopub.status.idle": "2024-10-27T18:31:40.788196Z",
          "shell.execute_reply.started": "2024-10-27T18:31:40.64216Z",
          "shell.execute_reply": "2024-10-27T18:31:40.787071Z"
        },
        "trusted": true,
        "id": "5Am8McXscm07",
        "outputId": "abbbf9d2-60c8-4c58-8592-99b4c1b8252a"
      },
      "outputs": [
        {
          "name": "stdout",
          "text": "Training Features Shape: (429, 11)\nTesting Features Shape: (185, 11)\nTraining Labels Shape: (429,)\nTesting Labels Shape: (185,)\n",
          "output_type": "stream"
        }
      ],
      "execution_count": null
    },
    {
      "cell_type": "code",
      "source": [
        "from sklearn.linear_model import LogisticRegression\n",
        "from sklearn.tree import DecisionTreeClassifier\n",
        "\n",
        "# Initialize models\n",
        "log_reg = LogisticRegression(random_state=42, max_iter=1000)\n",
        "decision_tree = DecisionTreeClassifier(random_state=42)\n",
        "\n",
        "# Train models\n",
        "log_reg.fit(X_train, y_train)\n",
        "decision_tree.fit(X_train, y_train)\n",
        "\n",
        "print(\"Models trained successfully.\")\n"
      ],
      "metadata": {
        "execution": {
          "iopub.status.busy": "2024-10-27T18:31:40.790185Z",
          "iopub.execute_input": "2024-10-27T18:31:40.791002Z",
          "iopub.status.idle": "2024-10-27T18:31:41.182879Z",
          "shell.execute_reply.started": "2024-10-27T18:31:40.790929Z",
          "shell.execute_reply": "2024-10-27T18:31:41.181492Z"
        },
        "trusted": true,
        "id": "lSytfJ7bcm08",
        "outputId": "d8c592fd-21b7-414f-a19d-d5be436cbed4"
      },
      "outputs": [
        {
          "name": "stdout",
          "text": "Models trained successfully.\n",
          "output_type": "stream"
        }
      ],
      "execution_count": null
    },
    {
      "cell_type": "code",
      "source": [
        "from sklearn.metrics import accuracy_score, precision_score, recall_score, confusion_matrix\n",
        "\n",
        "# Make predictions\n",
        "y_pred_log_reg = log_reg.predict(X_test)\n",
        "y_pred_decision_tree = decision_tree.predict(X_test)\n",
        "\n",
        "# Evaluate Logistic Regression\n",
        "accuracy_log_reg = accuracy_score(y_test, y_pred_log_reg)\n",
        "precision_log_reg = precision_score(y_test, y_pred_log_reg)\n",
        "recall_log_reg = recall_score(y_test, y_pred_log_reg)\n",
        "\n",
        "# Evaluate Decision Tree\n",
        "accuracy_decision_tree = accuracy_score(y_test, y_pred_decision_tree)\n",
        "precision_decision_tree = precision_score(y_test, y_pred_decision_tree)\n",
        "recall_decision_tree = recall_score(y_test, y_pred_decision_tree)\n",
        "\n",
        "# Print evaluation metrics\n",
        "print(\"Logistic Regression - Accuracy:\", accuracy_log_reg)\n",
        "print(\"Logistic Regression - Precision:\", precision_log_reg)\n",
        "print(\"Logistic Regression - Recall:\", recall_log_reg)\n",
        "\n",
        "print(\"\\nDecision Tree - Accuracy:\", accuracy_decision_tree)\n",
        "print(\"Decision Tree - Precision:\", precision_decision_tree)\n",
        "print(\"Decision Tree - Recall:\", recall_decision_tree)\n"
      ],
      "metadata": {
        "execution": {
          "iopub.status.busy": "2024-10-27T18:31:41.186316Z",
          "iopub.execute_input": "2024-10-27T18:31:41.187017Z",
          "iopub.status.idle": "2024-10-27T18:31:41.216579Z",
          "shell.execute_reply.started": "2024-10-27T18:31:41.186951Z",
          "shell.execute_reply": "2024-10-27T18:31:41.215568Z"
        },
        "trusted": true,
        "id": "sPAlYTvJcm08",
        "outputId": "ad9f11e0-0bb2-4ee2-a689-0ee497257b99"
      },
      "outputs": [
        {
          "name": "stdout",
          "text": "Logistic Regression - Accuracy: 0.8486486486486486\nLogistic Regression - Precision: 0.8322147651006712\nLogistic Regression - Recall: 0.9763779527559056\n\nDecision Tree - Accuracy: 0.7135135135135136\nDecision Tree - Precision: 0.8490566037735849\nDecision Tree - Recall: 0.7086614173228346\n",
          "output_type": "stream"
        }
      ],
      "execution_count": null
    },
    {
      "cell_type": "code",
      "source": [
        "# Import necessary libraries for visualization\n",
        "import seaborn as sns\n",
        "import matplotlib.pyplot as plt\n",
        "\n",
        "# Generate confusion matrices\n",
        "conf_matrix_log_reg = confusion_matrix(y_test, y_pred_log_reg)\n",
        "conf_matrix_decision_tree = confusion_matrix(y_test, y_pred_decision_tree)\n",
        "\n",
        "# Plot confusion matrices\n",
        "plt.figure(figsize=(12, 5))\n",
        "\n",
        "# Logistic Regression Confusion Matrix\n",
        "plt.subplot(1, 2, 1)\n",
        "sns.heatmap(conf_matrix_log_reg, annot=True, fmt='d', cmap='Blues')\n",
        "plt.title('Logistic Regression - Confusion Matrix')\n",
        "plt.xlabel('Predicted')\n",
        "plt.ylabel('Actual')\n",
        "\n",
        "# Decision Tree Confusion Matrix\n",
        "plt.subplot(1, 2, 2)\n",
        "sns.heatmap(conf_matrix_decision_tree, annot=True, fmt='d', cmap='Blues')\n",
        "plt.title('Decision Tree - Confusion Matrix')\n",
        "plt.xlabel('Predicted')\n",
        "plt.ylabel('Actual')\n",
        "\n",
        "plt.tight_layout()\n",
        "plt.show()\n"
      ],
      "metadata": {
        "execution": {
          "iopub.status.busy": "2024-10-27T18:31:41.218182Z",
          "iopub.execute_input": "2024-10-27T18:31:41.218872Z",
          "iopub.status.idle": "2024-10-27T18:31:42.565516Z",
          "shell.execute_reply.started": "2024-10-27T18:31:41.218824Z",
          "shell.execute_reply": "2024-10-27T18:31:42.564082Z"
        },
        "trusted": true,
        "id": "HmGCqBmmcm09",
        "outputId": "c9499087-1713-4ead-97c7-e98902da089d"
      },
      "outputs": [
        {
          "output_type": "display_data",
          "data": {
            "text/plain": "<Figure size 1200x500 with 4 Axes>",
            "image/png": "[encoded data removed]"
          },
          "metadata": {}
        }
      ],
      "execution_count": null
    },
    {
      "cell_type": "code",
      "source": [
        "# Create a comparison table\n",
        "comparison_df = pd.DataFrame({\n",
        "    'Model': ['Logistic Regression', 'Decision Tree'],\n",
        "    'Accuracy': [accuracy_log_reg, accuracy_decision_tree],\n",
        "    'Precision': [precision_log_reg, precision_decision_tree],\n",
        "    'Recall': [recall_log_reg, recall_decision_tree]\n",
        "})\n",
        "\n",
        "print(comparison_df)\n"
      ],
      "metadata": {
        "execution": {
          "iopub.status.busy": "2024-10-27T18:31:42.56859Z",
          "iopub.execute_input": "2024-10-27T18:31:42.569179Z",
          "iopub.status.idle": "2024-10-27T18:31:42.581539Z",
          "shell.execute_reply.started": "2024-10-27T18:31:42.569135Z",
          "shell.execute_reply": "2024-10-27T18:31:42.580075Z"
        },
        "trusted": true,
        "id": "0shksJXdcm09",
        "outputId": "d70f696e-f29b-4443-e0c8-c957ee451238"
      },
      "outputs": [
        {
          "name": "stdout",
          "text": "                 Model  Accuracy  Precision    Recall\n0  Logistic Regression  0.848649   0.832215  0.976378\n1        Decision Tree  0.713514   0.849057  0.708661\n",
          "output_type": "stream"
        }
      ],
      "execution_count": null
    }
  ]
}