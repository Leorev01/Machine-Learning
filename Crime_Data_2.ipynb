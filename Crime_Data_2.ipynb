{
  "metadata": {
    "kernelspec": {
      "language": "python",
      "display_name": "Python 3",
      "name": "python3"
    },
    "language_info": {
      "name": "python",
      "version": "3.10.14",
      "mimetype": "text/x-python",
      "codemirror_mode": {
        "name": "ipython",
        "version": 3
      },
      "pygments_lexer": "ipython3",
      "nbconvert_exporter": "python",
      "file_extension": ".py"
    },
    "kaggle": {
      "accelerator": "none",
      "dataSources": [
        {
          "sourceId": 9723184,
          "sourceType": "datasetVersion",
          "datasetId": 5949250
        }
      ],
      "dockerImageVersionId": 30786,
      "isInternetEnabled": true,
      "language": "python",
      "sourceType": "notebook",
      "isGpuEnabled": false
    },
    "colab": {
      "name": "Crime Data 2",
      "provenance": [],
      "include_colab_link": true
    }
  },
  "nbformat_minor": 0,
  "nbformat": 4,
  "cells": [
    {
      "cell_type": "markdown",
      "metadata": {
        "id": "view-in-github",
        "colab_type": "text"
      },
      "source": [
        "<a href=\"https://colab.research.google.com/github/Leorev01/Machine-Learning/blob/main/Crime_Data_2.ipynb\" target=\"_parent\"><img src=\"https://colab.research.google.com/assets/colab-badge.svg\" alt=\"Open In Colab\"/></a>"
      ]
    },
    {
      "source": [
        "# IMPORTANT: SOME KAGGLE DATA SOURCES ARE PRIVATE\n",
        "# RUN THIS CELL IN ORDER TO IMPORT YOUR KAGGLE DATA SOURCES.\n",
        "import kagglehub\n",
        "kagglehub.login()\n"
      ],
      "metadata": {
        "id": "jzPSS1sHd28X"
      },
      "cell_type": "code",
      "outputs": [],
      "execution_count": null
    },
    {
      "source": [
        "# IMPORTANT: RUN THIS CELL IN ORDER TO IMPORT YOUR KAGGLE DATA SOURCES,\n",
        "# THEN FEEL FREE TO DELETE THIS CELL.\n",
        "# NOTE: THIS NOTEBOOK ENVIRONMENT DIFFERS FROM KAGGLE'S PYTHON\n",
        "# ENVIRONMENT SO THERE MAY BE MISSING LIBRARIES USED BY YOUR\n",
        "# NOTEBOOK.\n",
        "\n",
        "mynameisleo123_crimedata2_path = kagglehub.dataset_download('mynameisleo123/crimedata2')\n",
        "\n",
        "print('Data source import complete.')\n"
      ],
      "metadata": {
        "id": "u26yv_had28Y"
      },
      "cell_type": "code",
      "outputs": [],
      "execution_count": null
    },
    {
      "cell_type": "markdown",
      "source": [
        "## This Python 3 environment comes with many helpful analytics libraries installed\n",
        "# It is defined by the kaggle/python Docker image: https://github.com/kaggle/docker-python\n",
        "# For example, here's several helpful packages to load\n",
        "\n",
        "import numpy as np # linear algebra\n",
        "import pandas as pd # data processing, CSV file I/O (e.g. pd.read_csv)\n",
        "\n",
        "# Input data files are available in the read-only \"../input/\" directory\n",
        "# For example, running this (by clicking run or pressing Shift+Enter) will list all files under the input directory\n",
        "\n",
        "import os\n",
        "for dirname, _, filenames in os.walk('/kaggle/input'):\n",
        "    for filename in filenames:\n",
        "        print(os.path.join(dirname, filename))\n",
        "\n",
        "# You can write up to 20GB to the current directory (/kaggle/working/) that gets preserved as output when you create a version using \"Save & Run All\"\n",
        "# You can also write temporary files to /kaggle/temp/, but they won't be saved outside of the current session"
      ],
      "metadata": {
        "_uuid": "8f2839f25d086af736a60e9eeb907d3b93b6e0e5",
        "_cell_guid": "b1076dfc-b9ad-4769-8c92-a6c4dae69d19",
        "id": "04YcdlABd28Z"
      }
    },
    {
      "cell_type": "code",
      "source": [
        "!pip install pyspark"
      ],
      "metadata": {
        "execution": {
          "iopub.status.busy": "2024-10-25T20:27:04.198388Z",
          "iopub.execute_input": "2024-10-25T20:27:04.19884Z",
          "iopub.status.idle": "2024-10-25T20:27:57.032237Z",
          "shell.execute_reply.started": "2024-10-25T20:27:04.198798Z",
          "shell.execute_reply": "2024-10-25T20:27:57.030727Z"
        },
        "trusted": true,
        "id": "tJZbE9KBd28b"
      },
      "execution_count": null,
      "outputs": []
    },
    {
      "cell_type": "code",
      "source": [
        "from pyspark.sql import SparkSession\n",
        "\n",
        "# Initialize Spark session\n",
        "spark = SparkSession.builder \\\n",
        "    .appName(\"CrimeDataAnalysis\") \\\n",
        "    .getOrCreate()\n"
      ],
      "metadata": {
        "execution": {
          "iopub.status.busy": "2024-10-25T20:28:03.224563Z",
          "iopub.execute_input": "2024-10-25T20:28:03.225058Z",
          "iopub.status.idle": "2024-10-25T20:28:09.215052Z",
          "shell.execute_reply.started": "2024-10-25T20:28:03.22501Z",
          "shell.execute_reply": "2024-10-25T20:28:09.213355Z"
        },
        "trusted": true,
        "id": "kFu2oooqd28b"
      },
      "execution_count": null,
      "outputs": []
    },
    {
      "cell_type": "code",
      "source": [
        "from pyspark.sql.functions import lit, col, regexp_replace\n",
        "from pyspark.sql import DataFrame\n",
        "\n",
        "# Base directory where the CSV files are located\n",
        "base_dir = \"/kaggle/input/crimedata2/Dataset\"\n",
        "\n",
        "# List of county names and corresponding file prefixes for loading files\n",
        "counties = [\"derbyshire\", \"kent\", \"leicestershire\"]\n",
        "months = [f\"{str(month).zfill(2)}\" for month in range(1, 13)]\n",
        "\n",
        "# Function to load and add a county column to each DataFrame\n",
        "def load_monthly_data(county: str, month: str) -> DataFrame:\n",
        "    path = f\"{base_dir}/2022-{month}-{county}-street.csv\"\n",
        "    df = spark.read.csv(path, header=True, inferSchema=True)\n",
        "    df = df.withColumn(\"County\", lit(county.capitalize()))  # Add a standard County column\n",
        "    return df\n",
        "\n",
        "# Load and union all the monthly files into one DataFrame\n",
        "dfs = [load_monthly_data(county, month) for county in counties for month in months]\n",
        "crime_data = dfs[0]\n",
        "for df in dfs[1:]:\n",
        "    crime_data = crime_data.union(df)\n",
        "\n",
        "# Standardize the County names if needed\n",
        "crime_data = crime_data.withColumn(\n",
        "    \"County\", regexp_replace(col(\"County\"), \"Derbyshire Constabulary\", \"Derbyshire\")\n",
        ")\n",
        "crime_data = crime_data.withColumn(\n",
        "    \"County\", regexp_replace(col(\"County\"), \"Leicestershire Constabulary\", \"Leicestershire\")\n",
        ")\n",
        "crime_data = crime_data.withColumn(\n",
        "    \"County\", regexp_replace(col(\"County\"), \"Kent Police\", \"Kent\")\n",
        ")\n",
        "\n",
        "# Show the schema to verify\n",
        "crime_data.printSchema()\n"
      ],
      "metadata": {
        "execution": {
          "iopub.status.busy": "2024-10-25T20:28:29.002968Z",
          "iopub.execute_input": "2024-10-25T20:28:29.003404Z",
          "iopub.status.idle": "2024-10-25T20:28:48.473749Z",
          "shell.execute_reply.started": "2024-10-25T20:28:29.003364Z",
          "shell.execute_reply": "2024-10-25T20:28:48.472437Z"
        },
        "trusted": true,
        "id": "oKWd25uRd28c"
      },
      "execution_count": null,
      "outputs": []
    },
    {
      "cell_type": "code",
      "source": [
        "# Register the DataFrame as a temporary SQL view\n",
        "crime_data.createOrReplaceTempView(\"crime_data\")\n",
        "\n",
        "# Total Crimes by County\n",
        "total_crimes_by_county = spark.sql(\"\"\"\n",
        "    SELECT County, COUNT(*) AS TotalCrimes\n",
        "    FROM crime_data\n",
        "    GROUP BY County\n",
        "\"\"\")\n",
        "total_crimes_by_county.show()\n",
        "\n",
        "# Monthly Crime Trends\n",
        "monthly_crimes = spark.sql(\"\"\"\n",
        "    SELECT County, Month, COUNT(*) AS TotalCrimes\n",
        "    FROM crime_data\n",
        "    GROUP BY County, Month\n",
        "    ORDER BY County, Month\n",
        "\"\"\")\n",
        "monthly_crimes.show()\n",
        "\n",
        "\n",
        "# Crime Type Analysis\n",
        "crime_type_analysis = spark.sql(\"\"\"\n",
        "    SELECT County, `Crime type` AS Crime_type, COUNT(*) AS CrimeCount\n",
        "    FROM crime_data\n",
        "    GROUP BY County, `Crime type`\n",
        "    ORDER BY County, CrimeCount DESC\n",
        "\"\"\")\n",
        "crime_type_analysis.show()\n",
        "\n"
      ],
      "metadata": {
        "execution": {
          "iopub.status.busy": "2024-10-25T20:30:57.510667Z",
          "iopub.execute_input": "2024-10-25T20:30:57.511181Z",
          "iopub.status.idle": "2024-10-25T20:31:06.842899Z",
          "shell.execute_reply.started": "2024-10-25T20:30:57.51114Z",
          "shell.execute_reply": "2024-10-25T20:31:06.84154Z"
        },
        "trusted": true,
        "id": "p-DKBjitd28c"
      },
      "execution_count": null,
      "outputs": []
    },
    {
      "cell_type": "code",
      "source": [
        "import pandas as pd\n",
        "import matplotlib.pyplot as plt\n",
        "import seaborn as sns\n",
        "\n",
        "# Convert Spark DataFrame to Pandas for plotting\n",
        "total_crimes_df = total_crimes_by_county.toPandas()\n",
        "monthly_crimes_df = monthly_crimes.toPandas()\n",
        "crime_type_df = crime_type_analysis.toPandas()\n",
        "\n",
        "# 1. Line plot for Monthly Crime Trends\n",
        "plt.figure(figsize=(10, 6))\n",
        "sns.lineplot(data=monthly_crimes_df, x=\"Month\", y=\"TotalCrimes\", hue=\"County\", marker=\"o\")\n",
        "plt.title(\"Monthly Crime Trends by County\")\n",
        "plt.xlabel(\"Month\")\n",
        "plt.ylabel(\"Total Crimes\")\n",
        "plt.legend(title=\"County\")\n",
        "plt.show()\n",
        "\n",
        "# 2. Bar Chart for Crime Type Distribution\n",
        "plt.figure(figsize=(12, 8))\n",
        "sns.barplot(data=crime_type_df, x=\"Crime_type\", y=\"CrimeCount\", hue=\"County\")\n",
        "plt.xticks(rotation=90)\n",
        "plt.title(\"Crime Type Distribution by County\")\n",
        "plt.xlabel(\"Crime Type\")\n",
        "plt.ylabel(\"Crime Count\")\n",
        "plt.legend(title=\"County\")\n",
        "plt.show()\n",
        "\n",
        "# 3. Pie Charts for Crime Type Breakdown by County\n",
        "for county in counties:\n",
        "    data = crime_type_df[crime_type_df['County'] == county.capitalize()]\n",
        "    plt.figure(figsize=(6, 6))\n",
        "    plt.pie(data['CrimeCount'], labels=data['Crime_type'], autopct='%1.1f%%')\n",
        "    plt.title(f\"Crime Type Breakdown in {county.capitalize()}\")\n",
        "    plt.show()\n"
      ],
      "metadata": {
        "execution": {
          "iopub.status.busy": "2024-10-25T20:31:22.863677Z",
          "iopub.execute_input": "2024-10-25T20:31:22.864494Z",
          "iopub.status.idle": "2024-10-25T20:31:35.724725Z",
          "shell.execute_reply.started": "2024-10-25T20:31:22.864445Z",
          "shell.execute_reply": "2024-10-25T20:31:35.7233Z"
        },
        "trusted": true,
        "id": "7UaOKuzGd28d"
      },
      "execution_count": null,
      "outputs": []
    },
    {
      "cell_type": "code",
      "source": [
        "# Summary of Key Insights from Crime Data Analysis\n",
        "\n",
        "## 1. Total Crime Counts by County\n",
        "- **Kent** had the highest number of reported crimes, with **200,945** incidents.\n",
        "- **Derbyshire** followed with **110,805** crimes, while **Leicestershire** reported **115,179** crimes.\n",
        "- This indicates that Kent has a significantly higher crime rate compared to the other two counties.\n",
        "\n",
        "## 2. Monthly Crime Trends\n",
        "- The monthly crime trend analysis shows a fluctuating pattern in total crimes across all counties throughout the year.\n",
        "- In **Kent**, there were noticeable peaks in crimes around the mid-year months (especially June to August).\n",
        "- **Derbyshire** exhibited a gradual increase in crime until May, with a slight decrease towards the end of the year.\n",
        "\n",
        "## 3. Crime Type Distribution\n",
        "- **Violence and sexual offences** were the most prevalent crime type across all counties, especially in **Kent** (83,341 crimes) and **Derbyshire** (41,878 crimes).\n",
        "- Other significant crime types included **anti-social behaviour** and **criminal damage and arson**, indicating social issues and property-related concerns.\n",
        "- **Shoplifting** was also notable, particularly in **Kent**, suggesting retail crime as a significant concern.\n",
        "\n",
        "## 4. Crime Type Breakdown by County\n",
        "- Each county has unique crime type distributions:\n",
        "  - In **Derbyshire**, the second most common crime type was **anti-social behaviour**, while in **Kent**, it was significantly higher at **27,904** crimes.\n",
        "  - **Leicestershire** showed a more balanced distribution among different crime types, with notable counts across categories such as **criminal damage and arson** and **other theft**.\n",
        "\n",
        "## Visualizations\n",
        "- The **line plot** provided a clear visualization of monthly crime trends, illustrating fluctuations in crime rates by county over the year.\n",
        "- The **bar chart** effectively displayed the distribution of different crime types across the counties, highlighting areas of concern that may require targeted interventions.\n",
        "- The **pie charts** offered a detailed breakdown of crime types for each county, revealing the dominance of certain categories in specific regions.\n",
        "\n",
        "## Recommendations\n",
        "- **Increased Policing in High Crime Areas**: Given the high crime rates in Kent, a focused strategy to address violence and property crimes may be beneficial.\n",
        "- **Community Engagement**: Initiatives to tackle anti-social behaviour could enhance community safety, particularly in Derbyshire and Kent.\n",
        "- **Retail Security Improvements**: Strengthening security measures in retail environments could help mitigate the risk of shoplifting, especially in urban areas.\n",
        "\n",
        "This analysis provides a comprehensive understanding of crime patterns across Derbyshire, Kent, and Leicestershire in 2022, offering actionable insights for law enforcement and community leaders.\n"
      ],
      "metadata": {
        "execution": {
          "iopub.status.busy": "2024-10-25T20:34:10.513983Z",
          "iopub.execute_input": "2024-10-25T20:34:10.514667Z",
          "iopub.status.idle": "2024-10-25T20:34:10.53167Z",
          "shell.execute_reply.started": "2024-10-25T20:34:10.514622Z",
          "shell.execute_reply": "2024-10-25T20:34:10.529798Z"
        },
        "trusted": true,
        "id": "fCAAkCwrd28d"
      },
      "execution_count": null,
      "outputs": []
    }
  ]
}